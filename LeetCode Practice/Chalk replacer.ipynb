{
 "cells": [
  {
   "cell_type": "code",
   "execution_count": 37,
   "metadata": {},
   "outputs": [
    {
     "data": {
      "text/plain": [
       "2"
      ]
     },
     "execution_count": 37,
     "metadata": {},
     "output_type": "execute_result"
    }
   ],
   "source": [
    "class Solution:\n",
    "    def chalkReplacer(self, chalk, k: int) -> int:\n",
    "        \n",
    "        while True:\n",
    "            for i, num in enumerate(chalk):\n",
    "                if num>k:\n",
    "                    return i\n",
    "                k=k-num\n",
    "    \n",
    "replacer= Solution()\n",
    "\n",
    "chalk=[5,1,5]\n",
    "k=30\n",
    "replacer.chalkReplacer(chalk,k)"
   ]
  },
  {
   "cell_type": "markdown",
   "metadata": {},
   "source": [
    "##  Add Two Numbers\n",
    "\n",
    "You are given two non-empty linked lists representing two non-negative integers. The digits are stored in reverse order, and each of their nodes contains a single digit. Add the two numbers and return the sum as a linked list.\n",
    "\n",
    "You may assume the two numbers do not contain any leading zero, except the number 0 itself.\n",
    "\n",
    " "
   ]
  },
  {
   "cell_type": "code",
   "execution_count": 63,
   "metadata": {},
   "outputs": [
    {
     "name": "stdout",
     "output_type": "stream",
     "text": [
      "5\n",
      "4\n",
      "3\n",
      "5\n",
      "6\n",
      "9\n"
     ]
    }
   ],
   "source": [
    "# Creating the linkedin List\n",
    "class Node:\n",
    "    def __init__(self,data):\n",
    "        self.data=data # Data coming from outside \n",
    "        self.next = None\n",
    "        \n",
    "        \n",
    "class Linkedlist:\n",
    "    def __init__(self):\n",
    "        self.head= None\n",
    "        \n",
    "    def addNodeInBegining(self, data):\n",
    "        newNode=Node(data)\n",
    "        newNode.next=self.head\n",
    "        self.head=newNode\n",
    "        \n",
    "    def printNode(self):\n",
    "        temp=self.head\n",
    "        \n",
    "        while temp:\n",
    "            \n",
    "            data_only=temp.data\n",
    "            temp=temp.next\n",
    "            print(f\"{data_only}\")\n",
    "            \n",
    "            \n",
    "l1=Linkedlist()\n",
    "l1.addNodeInBegining(3)\n",
    "l1.addNodeInBegining(4)\n",
    "l1.addNodeInBegining(5)\n",
    "\n",
    "l2=Linkedlist()\n",
    "l2.addNodeInBegining(9)\n",
    "l2.addNodeInBegining(6)\n",
    "l2.addNodeInBegining(5)\n",
    "\n",
    "\n",
    "l1.printNode()\n",
    "\n",
    "l2.printNode()\n"
   ]
  },
  {
   "cell_type": "code",
   "execution_count": 60,
   "metadata": {},
   "outputs": [
    {
     "name": "stdout",
     "output_type": "stream",
     "text": [
      "['pw', 'w', 'wke', 'kew', 'ew', 'w']\n"
     ]
    },
    {
     "data": {
      "text/plain": [
       "3"
      ]
     },
     "execution_count": 60,
     "metadata": {},
     "output_type": "execute_result"
    }
   ],
   "source": [
    "# Pick the max length substring\n",
    "\n",
    "class Solution:\n",
    "    def lengthOfLongestSubstring(self,s):\n",
    "        self.str_list=[]\n",
    "        self.substring=\"\"\n",
    "        self.max_len=0\n",
    "        \n",
    "        for i in range(len(s)):\n",
    "            self.substring +=s[i]\n",
    "            for j in range(i+1,len(s)):\n",
    "                if s[j] not in self.substring:\n",
    "                    \n",
    "                    self.substring +=s[j]\n",
    "                else:\n",
    "                    break\n",
    "            self.str_list.append(self.substring)\n",
    "            self.substring=\"\"\n",
    "        print(self.str_list)\n",
    "        for max in self.str_list:\n",
    "            \n",
    "            if len(max) > self.max_len:\n",
    "                self.max_len=len(max)\n",
    "        return self.max_len\n",
    "        \n",
    "sub=Solution()\n",
    "\n",
    "sub.lengthOfLongestSubstring(\"pwwkew\")\n",
    "        "
   ]
  },
  {
   "cell_type": "code",
   "execution_count": null,
   "metadata": {},
   "outputs": [],
   "source": []
  },
  {
   "cell_type": "code",
   "execution_count": null,
   "metadata": {},
   "outputs": [],
   "source": []
  }
 ],
 "metadata": {
  "kernelspec": {
   "display_name": "Python 3 (ipykernel)",
   "language": "python",
   "name": "python3"
  },
  "language_info": {
   "codemirror_mode": {
    "name": "ipython",
    "version": 3
   },
   "file_extension": ".py",
   "mimetype": "text/x-python",
   "name": "python",
   "nbconvert_exporter": "python",
   "pygments_lexer": "ipython3",
   "version": "3.7.7"
  }
 },
 "nbformat": 4,
 "nbformat_minor": 2
}
