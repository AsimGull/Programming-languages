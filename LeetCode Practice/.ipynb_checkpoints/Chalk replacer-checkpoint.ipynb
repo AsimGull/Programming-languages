{
 "cells": [
  {
   "cell_type": "code",
   "execution_count": 37,
   "metadata": {},
   "outputs": [
    {
     "data": {
      "text/plain": [
       "2"
      ]
     },
     "execution_count": 37,
     "metadata": {},
     "output_type": "execute_result"
    }
   ],
   "source": [
    "class Solution:\n",
    "    def chalkReplacer(self, chalk, k: int) -> int:\n",
    "        \n",
    "        while True:\n",
    "            for i, num in enumerate(chalk):\n",
    "                if num>k:\n",
    "                    return i\n",
    "                k=k-num\n",
    "    \n",
    "replacer= Solution()\n",
    "\n",
    "chalk=[5,1,5]\n",
    "k=30\n",
    "replacer.chalkReplacer(chalk,k)"
   ]
  },
  {
   "cell_type": "markdown",
   "metadata": {},
   "source": [
    "##  Add Two Numbers\n",
    "\n",
    "You are given two non-empty linked lists representing two non-negative integers. The digits are stored in reverse order, and each of their nodes contains a single digit. Add the two numbers and return the sum as a linked list.\n",
    "\n",
    "You may assume the two numbers do not contain any leading zero, except the number 0 itself.\n",
    "\n",
    " "
   ]
  },
  {
   "cell_type": "code",
   "execution_count": 58,
   "metadata": {},
   "outputs": [
    {
     "name": "stdout",
     "output_type": "stream",
     "text": [
      "Chicken -> \n",
      "Duck -> \n",
      "horse -> \n",
      "cow -> \n",
      "fly -> \n",
      "Zebra -> \n",
      "Rat -> \n",
      "Dog -> \n",
      "cat -> \n"
     ]
    }
   ],
   "source": [
    "# Creating the linkedin List\n",
    "class Node:\n",
    "    def __init__(self,data):\n",
    "        self.data=data # Data coming from outside \n",
    "        self.next = None\n",
    "        \n",
    "        \n",
    "class Linkedlist:\n",
    "    def __init__(self):\n",
    "        self.head= None\n",
    "        \n",
    "    def addNodeInBegining(self, data):\n",
    "        newNode=Node(data)\n",
    "        newNode.next=self.head\n",
    "        self.head=newNode\n",
    "        \n",
    "    def printNode(self):\n",
    "        temp=self.head\n",
    "        \n",
    "        while temp:\n",
    "            \n",
    "            data_only=temp.data\n",
    "            temp=temp.next\n",
    "            print(f\"{data_only} -> \")\n",
    "            \n",
    "            \n",
    "chain=Linkedlist()\n",
    "chain.addNodeInBegining(\"cat\")\n",
    "chain.addNodeInBegining(\"Dog\")\n",
    "chain.addNodeInBegining(\"Rat\")\n",
    "chain.addNodeInBegining(\"Zebra\")\n",
    "chain.addNodeInBegining(\"fly\")\n",
    "chain.addNodeInBegining(\"cow\")\n",
    "chain.addNodeInBegining(\"horse\")\n",
    "chain.addNodeInBegining(\"Duck\")\n",
    "chain.addNodeInBegining(\"Chicken\")\n",
    "\n",
    "chain.printNode()\n",
    "\n",
    "\n",
    "\n",
    "\n"
   ]
  },
  {
   "cell_type": "code",
   "execution_count": null,
   "metadata": {},
   "outputs": [],
   "source": []
  },
  {
   "cell_type": "code",
   "execution_count": null,
   "metadata": {},
   "outputs": [],
   "source": []
  },
  {
   "cell_type": "code",
   "execution_count": null,
   "metadata": {},
   "outputs": [],
   "source": []
  }
 ],
 "metadata": {
  "kernelspec": {
   "display_name": "Python 3",
   "language": "python",
   "name": "python3"
  },
  "language_info": {
   "codemirror_mode": {
    "name": "ipython",
    "version": 3
   },
   "file_extension": ".py",
   "mimetype": "text/x-python",
   "name": "python",
   "nbconvert_exporter": "python",
   "pygments_lexer": "ipython3",
   "version": "3.7.3"
  }
 },
 "nbformat": 4,
 "nbformat_minor": 2
}
