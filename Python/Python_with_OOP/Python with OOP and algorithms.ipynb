{
 "cells": [
  {
   "cell_type": "code",
   "execution_count": null,
   "id": "9fd7a8fa",
   "metadata": {},
   "outputs": [],
   "source": [
    "# python practice with oop structure and dynamic algorithms"
   ]
  },
  {
   "cell_type": "code",
   "execution_count": 2,
   "id": "78a2511d",
   "metadata": {},
   "outputs": [],
   "source": [
    "import pandas as pd\n",
    "import numpy as np\n",
    "import matplotlib.pyplot as plt"
   ]
  },
  {
   "cell_type": "code",
   "execution_count": 6,
   "id": "f111dfe8",
   "metadata": {},
   "outputs": [
    {
     "name": "stdout",
     "output_type": "stream",
     "text": [
      "5 and 3 makes the house Big\n",
      "3 and 2 makes the house  small\n"
     ]
    }
   ],
   "source": [
    "# class\n",
    "\n",
    "class House:\n",
    "    room=0\n",
    "    bathroom=0\n",
    "    size=\"\"\n",
    "    \n",
    "#instances\n",
    "seymourRoad=House()\n",
    "seymourRoad.room=5\n",
    "seymourRoad.bathroom=3\n",
    "seymourRoad.size=\"Big\"\n",
    "\n",
    "HullClose=House()\n",
    "HullClose.room=3\n",
    "HullClose.bathroom=2\n",
    "HullClose.size=\"small\"\n",
    "\n",
    "\n",
    "print(f\"{seymourRoad.room} and {seymourRoad.bathroom} makes the house {seymourRoad.size}\")\n",
    "print(f\"{HullClose.room} and {HullClose.bathroom} makes the house  {HullClose.size}\")\n",
    "\n"
   ]
  },
  {
   "cell_type": "markdown",
   "id": "7259103e",
   "metadata": {},
   "source": [
    "### Inhertitance\n",
    "\n",
    "Some main points regarding this concepts are as follows: <br/>\n",
    "- Instance of the child class is also the instance of the parent class.\n",
    "- Changes to the parent class also propagate to the child classes.\n",
    "- You can override and extend the parent class.\n",
    "- For override, you have to make same function in the child for only child class.\n",
    "- These __init__ and __str__ methods are called dunder methods.\n",
    "- Method Overriding: The child class can override a method from the parent class to provide a new implementation.\n",
    "- super(): Used within an overridden method to call the method from the parent class, allowing you to extend rather than replace the method's functionality\n"
   ]
  },
  {
   "cell_type": "code",
   "execution_count": 17,
   "id": "f8712b5c",
   "metadata": {},
   "outputs": [
    {
     "name": "stdout",
     "output_type": "stream",
     "text": [
      " I can eat the food\n",
      " I can sleep\n",
      " I can not sleep\n",
      "I can run by myself\n"
     ]
    }
   ],
   "source": [
    "# Inhertitance\n",
    "\n",
    "class Animal():\n",
    "    \n",
    "    def eat(self):\n",
    "        print(\" I can eat the food\")\n",
    "    def sleep(self):\n",
    "        print(\" I can sleep\")\n",
    "        \n",
    "        \n",
    "class Dog(Animal):\n",
    "    \n",
    "    def run(self):\n",
    "        print(\"I can run by myself\")\n",
    "        \n",
    "        #overridding the  parent functionality\n",
    "    def sleep(self):\n",
    "        # calling the parent function\n",
    "        \n",
    "        super().sleep()\n",
    "        \n",
    "        #It prints both the parent and the child\n",
    "        print(\" I can not sleep\")\n",
    "        \n",
    "dog1=Dog()\n",
    "\n",
    "# Calling the base class\n",
    "dog1.eat()\n",
    "dog1.sleep()\n",
    "\n",
    "# Calling the derived class\n",
    "\n",
    "dog1.run()   "
   ]
  },
  {
   "cell_type": "code",
   "execution_count": 11,
   "id": "dee842f1",
   "metadata": {},
   "outputs": [],
   "source": [
    "# Encapsulation\n",
    "\n",
    "class Market_values:\n",
    "    \n",
    "    def __init__(self):\n",
    "        self.__max_price=900\n",
    "        \n",
    "    def print_the_price(self):\n",
    "        print(f\"The price of the market is {self.__max_price}\")\n",
    "        \n",
    "    def setter_function(self,price):\n",
    "        self.__max_price=price\n",
    "        print(f\"The price of the market is {self.__max_price}\")"
   ]
  },
  {
   "cell_type": "code",
   "execution_count": 13,
   "id": "864f2d88",
   "metadata": {},
   "outputs": [
    {
     "name": "stdout",
     "output_type": "stream",
     "text": [
      "The price of the market is 900\n",
      "The price of the market is 200\n"
     ]
    }
   ],
   "source": [
    "M=Market_values()\n",
    "M.print_the_price()\n",
    "\n",
    "M.__max_price=2000\n",
    "\n",
    "M.setter_function(200)"
   ]
  },
  {
   "cell_type": "code",
   "execution_count": null,
   "id": "b6b93221",
   "metadata": {},
   "outputs": [],
   "source": []
  },
  {
   "cell_type": "code",
   "execution_count": null,
   "id": "6c1a346d",
   "metadata": {},
   "outputs": [],
   "source": []
  },
  {
   "cell_type": "code",
   "execution_count": null,
   "id": "5a2dedfe",
   "metadata": {},
   "outputs": [],
   "source": []
  }
 ],
 "metadata": {
  "kernelspec": {
   "display_name": "Python 3 (ipykernel)",
   "language": "python",
   "name": "python3"
  },
  "language_info": {
   "codemirror_mode": {
    "name": "ipython",
    "version": 3
   },
   "file_extension": ".py",
   "mimetype": "text/x-python",
   "name": "python",
   "nbconvert_exporter": "python",
   "pygments_lexer": "ipython3",
   "version": "3.7.7"
  }
 },
 "nbformat": 4,
 "nbformat_minor": 5
}
